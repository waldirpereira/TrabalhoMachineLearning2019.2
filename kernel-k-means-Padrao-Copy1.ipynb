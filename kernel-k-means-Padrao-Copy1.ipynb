{
 "cells": [
  {
   "cell_type": "code",
   "execution_count": 26,
   "metadata": {},
   "outputs": [],
   "source": [
    "#importing the libraries\n",
    "import numpy as np\n",
    "import matplotlib.pyplot as plt\n",
    "import pandas as pd\n",
    "\n",
    "#importing the Iris dataset with pandas\n",
    "dataset = pd.read_csv('Iris.csv')\n",
    "x = dataset.iloc[:, [1, 2, 3, 4]].values\n",
    "x_sepal = dataset.iloc[:, [1, 2]].values\n",
    "x_graf = dataset.iloc[:, [0, 1, 2]].values\n",
    "x_full = dataset.iloc[:, [1, 2, 3, 4, 5]].values"
   ]
  },
  {
   "cell_type": "code",
   "execution_count": 53,
   "metadata": {},
   "outputs": [
    {
     "name": "stderr",
     "output_type": "stream",
     "text": [
      "C:\\Users\\carlo\\Anaconda3\\lib\\site-packages\\tslearn\\utils.py:63: UserWarning: 2-Dimensional data passed. Assuming these are 150 1-dimensional timeseries\n",
      "  '{} 1-dimensional timeseries'.format(X.shape[0]))\n"
     ]
    },
    {
     "name": "stdout",
     "output_type": "stream",
     "text": [
      "GlobalAlignmentKernelKMeans(max_iter=50, n_clusters=3, n_init=20, n_jobs=None,\n",
      "              random_state=0, sigma=2.1213203435596433, tol=1e-06,\n",
      "              verbose=False)\n",
      "[0 0 0 0 0 0 0 0 0 0 0 0 0 0 0 0 0 0 0 0 0 0 0 0 0 0 0 0 0 0 0 0 0 0 0 0 0\n",
      " 0 0 0 0 0 0 0 0 0 0 0 0 0 2 2 2 1 2 1 2 1 2 1 1 1 1 1 1 2 1 1 1 1 1 1 1 1\n",
      " 2 2 2 2 1 1 1 1 1 1 1 1 2 1 1 1 1 1 1 1 1 1 1 1 1 1 2 1 2 1 2 2 1 2 2 2 2\n",
      " 2 2 1 1 2 2 2 2 1 2 1 2 1 2 2 1 1 2 2 2 2 2 1 1 2 2 2 1 2 2 2 1 2 2 2 1 2\n",
      " 2 1]\n",
      "[[1.0, 2.0, 3.0, 4.0, 5.0, 6.0, 7.0, 8.0, 9.0, 10.0, 11.0, 12.0, 13.0, 14.0, 15.0, 16.0, 17.0, 18.0, 19.0, 20.0, 21.0, 22.0, 23.0, 24.0, 25.0, 26.0, 27.0, 28.0, 29.0, 30.0, 31.0, 32.0, 33.0, 34.0, 35.0, 36.0, 37.0, 38.0, 39.0, 40.0, 41.0, 42.0, 43.0, 44.0, 45.0, 46.0, 47.0, 48.0, 49.0, 50.0], [54.0, 56.0, 58.0, 60.0, 61.0, 62.0, 63.0, 64.0, 65.0, 67.0, 68.0, 69.0, 70.0, 71.0, 72.0, 73.0, 74.0, 79.0, 80.0, 81.0, 82.0, 83.0, 84.0, 85.0, 86.0, 88.0, 89.0, 90.0, 91.0, 92.0, 93.0, 94.0, 95.0, 96.0, 97.0, 98.0, 99.0, 100.0, 102.0, 104.0, 107.0, 114.0, 115.0, 120.0, 122.0, 124.0, 127.0, 128.0, 134.0, 135.0, 139.0, 143.0, 147.0, 150.0], [51.0, 52.0, 53.0, 55.0, 57.0, 59.0, 66.0, 75.0, 76.0, 77.0, 78.0, 87.0, 101.0, 103.0, 105.0, 106.0, 108.0, 109.0, 110.0, 111.0, 112.0, 113.0, 116.0, 117.0, 118.0, 119.0, 121.0, 123.0, 125.0, 126.0, 129.0, 130.0, 131.0, 132.0, 133.0, 136.0, 137.0, 138.0, 140.0, 141.0, 142.0, 144.0, 145.0, 146.0, 148.0, 149.0]]\n"
     ]
    },
    {
     "data": {
      "text/plain": [
       "Text(0.5, 1.0, 'Kernel K-means')"
      ]
     },
     "execution_count": 53,
     "metadata": {},
     "output_type": "execute_result"
    },
    {
     "data": {
      "image/png": "[encoded data removed]",
      "text/plain": [
       "<Figure size 432x288 with 1 Axes>"
      ]
     },
     "metadata": {
      "needs_background": "light"
     },
     "output_type": "display_data"
    }
   ],
   "source": [
    "from tslearn.clustering import GlobalAlignmentKernelKMeans\n",
    "from tslearn.metrics import sigma_gak\n",
    "from tslearn.datasets import CachedDatasets\n",
    "from tslearn.preprocessing import TimeSeriesScalerMeanVariance\n",
    "\n",
    "seed = 0\n",
    "sz = x_sepal.shape[1]\n",
    "\n",
    "gak_km = GlobalAlignmentKernelKMeans(n_clusters=3,\n",
    "                                     sigma=sigma_gak(x_sepal),\n",
    "                                     n_init=20,\n",
    "                                     verbose=False,\n",
    "                                     random_state=seed)\n",
    "y_pred = gak_km.fit_predict(x_sepal)\n",
    "\n",
    "print(gak_km)\n",
    "\n",
    "#plt.figure()\n",
    "#for yi in range(3):\n",
    "#    plt.subplot(3, 1, 1 + yi)\n",
    "#    for xx in x_sepal[y_pred == yi]:\n",
    "#        plt.plot(xx.ravel(), \"k-\")\n",
    "#    plt.xlim(0, 1)\n",
    "#    plt.ylim(2, 8)\n",
    "#    plt.title(\"Cluster %d\" % (yi + 1))\n",
    "\n",
    "\n",
    "k = []\n",
    "f = []\n",
    "u = []\n",
    "matriz =[]\n",
    "\n",
    "for y in range(len(y_pred)):\n",
    "    if y_pred[y] == 0:\n",
    "        k.append(x_graf[y,0])\n",
    "    elif y_pred[y]==1:\n",
    "        f.append(x_graf[y,0])\n",
    "    elif y_pred[y]==2:\n",
    "        u.append(x_graf[y,0])\n",
    "        \n",
    "        \n",
    "print(y_pred)\n",
    "matriz.append(k)\n",
    "matriz.append(f)\n",
    "matriz.append(u)\n",
    "print(matriz)\n",
    "\n",
    "#Visualising the clusters\n",
    "plt.scatter(x_sepal[y_pred == 0, 0], x_sepal[y_pred == 0, 1], s = 60, c = 'red', label = 'Iris-versicolour')\n",
    "plt.scatter(x_sepal[y_pred == 1, 0], x_sepal[y_pred == 1, 1], s = 60, c = 'blue', label = 'Iris-setosa')\n",
    "plt.scatter(x_sepal[y_pred == 2, 0], x_sepal[y_pred == 2, 1], s = 60, c = 'green', label = 'Iris-virginica')\n",
    "\n",
    "\n",
    "plt.grid(b=True, which='major', axis='both', color='0.75', linestyle='-', linewidth=1)\n",
    "plt.title('Kernel K-means', fontdict=None, loc='center', pad=None)\n",
    "\n",
    "#plt.legend()"
   ]
  },
  {
   "cell_type": "code",
   "execution_count": null,
   "metadata": {},
   "outputs": [],
   "source": []
  }
 ],
 "metadata": {
  "kernelspec": {
   "display_name": "Python 3",
   "language": "python",
   "name": "python3"
  },
  "language_info": {
   "codemirror_mode": {
    "name": "ipython",
    "version": 3
   },
   "file_extension": ".py",
   "mimetype": "text/x-python",
   "name": "python",
   "nbconvert_exporter": "python",
   "pygments_lexer": "ipython3",
   "version": "3.7.3"
  }
 },
 "nbformat": 4,
 "nbformat_minor": 2
}

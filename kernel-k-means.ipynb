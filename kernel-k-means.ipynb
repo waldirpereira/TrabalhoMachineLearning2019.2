{
 "cells": [
  {
   "cell_type": "code",
   "execution_count": 2,
   "metadata": {},
   "outputs": [],
   "source": [
    "#importing the libraries\n",
    "import numpy as np\n",
    "import matplotlib.pyplot as plt\n",
    "import pandas as pd\n",
    "\n",
    "#importing the Iris dataset with pandas\n",
    "dataset = pd.read_csv('./input/Iris.csv')\n",
    "x = dataset.iloc[:, [1, 2, 3, 4]].values\n",
    "x_sepal = dataset.iloc[:, [1, 2]].values\n",
    "x_full = dataset.iloc[:, [1, 2, 3, 4, 5]].values"
   ]
  },
  {
   "cell_type": "code",
   "execution_count": 31,
   "metadata": {},
   "outputs": [
    {
     "name": "stdout",
     "output_type": "stream",
     "text": [
      "GlobalAlignmentKernelKMeans(max_iter=50, n_clusters=3, n_init=20,\n",
      "              random_state=0, sigma=2.2627416997969516, tol=1e-06,\n",
      "              verbose=False)\n"
     ]
    },
    {
     "data": {
      "text/plain": [
       "<matplotlib.legend.Legend at 0x15960ec2470>"
      ]
     },
     "execution_count": 31,
     "metadata": {},
     "output_type": "execute_result"
    },
    {
     "data": {
      "image/png": "[encoded data removed]",
      "text/plain": [
       "<Figure size 432x288 with 1 Axes>"
      ]
     },
     "metadata": {},
     "output_type": "display_data"
    }
   ],
   "source": [
    "from tslearn.clustering import GlobalAlignmentKernelKMeans\n",
    "from tslearn.metrics import sigma_gak\n",
    "from tslearn.datasets import CachedDatasets\n",
    "from tslearn.preprocessing import TimeSeriesScalerMeanVariance\n",
    "\n",
    "seed = 0\n",
    "sz = x_sepal.shape[1]\n",
    "\n",
    "gak_km = GlobalAlignmentKernelKMeans(n_clusters=3,\n",
    "                                     sigma=sigma_gak(x_sepal),\n",
    "                                     n_init=20,\n",
    "                                     verbose=False,\n",
    "                                     random_state=seed)\n",
    "y_pred = gak_km.fit_predict(x_sepal)\n",
    "\n",
    "print(gak_km)\n",
    "\n",
    "#plt.figure()\n",
    "#for yi in range(3):\n",
    "#    plt.subplot(3, 1, 1 + yi)\n",
    "#    for xx in x_sepal[y_pred == yi]:\n",
    "#        plt.plot(xx.ravel(), \"k-\")\n",
    "#    plt.xlim(0, 1)\n",
    "#    plt.ylim(2, 8)\n",
    "#    plt.title(\"Cluster %d\" % (yi + 1))\n",
    "\n",
    "#print(y_pred)\n",
    "\n",
    "#plt.show()\n",
    "\n",
    "#print(gak_km)\n",
    "\n",
    "#Visualising the clusters\n",
    "plt.scatter(x_sepal[y_pred == 0, 0], x_sepal[y_pred == 0, 1], s = 100, c = 'red', label = 'Iris-versicolour')\n",
    "plt.scatter(x_sepal[y_pred == 1, 0], x_sepal[y_pred == 1, 1], s = 100, c = 'blue', label = 'Iris-setosa')\n",
    "plt.scatter(x_sepal[y_pred == 2, 0], x_sepal[y_pred == 2, 1], s = 100, c = 'green', label = 'Iris-virginica')\n",
    "\n",
    "plt.legend()"
   ]
  },
  {
   "cell_type": "code",
   "execution_count": null,
   "metadata": {},
   "outputs": [],
   "source": []
  }
 ],
 "metadata": {
  "kernelspec": {
   "display_name": "Python 3",
   "language": "python",
   "name": "python3"
  },
  "language_info": {
   "codemirror_mode": {
    "name": "ipython",
    "version": 3
   },
   "file_extension": ".py",
   "mimetype": "text/x-python",
   "name": "python",
   "nbconvert_exporter": "python",
   "pygments_lexer": "ipython3",
   "version": "3.6.5"
  }
 },
 "nbformat": 4,
 "nbformat_minor": 2
}
